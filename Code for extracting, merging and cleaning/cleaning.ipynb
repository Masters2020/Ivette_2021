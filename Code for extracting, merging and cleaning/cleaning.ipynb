{
  "nbformat": 4,
  "nbformat_minor": 0,
  "metadata": {
    "colab": {
      "name": "Job - Manipulate dataset WITH SPRING2021.ipynb",
      "provenance": []
    },
    "kernelspec": {
      "name": "python3",
      "display_name": "Python 3"
    },
    "language_info": {
      "name": "python"
    }
  },
  "cells": [
    {
      "cell_type": "code",
      "metadata": {
        "id": "ru72GpeR3WKY",
        "colab": {
          "base_uri": "https://localhost:8080/"
        },
        "outputId": "52f69945-fde0-49fe-f876-3ba323e9ad2d"
      },
      "source": [
        "from google.colab import drive\n",
        "drive.mount(\"/content/drive\")"
      ],
      "execution_count": 1,
      "outputs": [
        {
          "output_type": "stream",
          "text": [
            "Mounted at /content/drive\n"
          ],
          "name": "stdout"
        }
      ]
    },
    {
      "cell_type": "code",
      "metadata": {
        "id": "jmmR0IGU3nvH",
        "colab": {
          "base_uri": "https://localhost:8080/",
          "height": 178
        },
        "outputId": "736448ad-21ea-4b97-ae0f-69d94a7c8dd1"
      },
      "source": [
        "import os \n",
        "os.chdir(\"/content/drive/MyDrive/THESIS/Dataset logistics/Job's dataset\")"
      ],
      "execution_count": 2,
      "outputs": [
        {
          "output_type": "error",
          "ename": "FileNotFoundError",
          "evalue": "ignored",
          "traceback": [
            "\u001b[0;31m---------------------------------------------------------------------------\u001b[0m",
            "\u001b[0;31mFileNotFoundError\u001b[0m                         Traceback (most recent call last)",
            "\u001b[0;32m<ipython-input-2-7960dd221110>\u001b[0m in \u001b[0;36m<module>\u001b[0;34m()\u001b[0m\n\u001b[1;32m      1\u001b[0m \u001b[0;32mimport\u001b[0m \u001b[0mos\u001b[0m\u001b[0;34m\u001b[0m\u001b[0;34m\u001b[0m\u001b[0m\n\u001b[0;32m----> 2\u001b[0;31m \u001b[0mos\u001b[0m\u001b[0;34m.\u001b[0m\u001b[0mchdir\u001b[0m\u001b[0;34m(\u001b[0m\u001b[0;34m\"/content/drive/MyDrive/THESIS/Dataset logistics/Job's dataset\"\u001b[0m\u001b[0;34m)\u001b[0m\u001b[0;34m\u001b[0m\u001b[0;34m\u001b[0m\u001b[0m\n\u001b[0m",
            "\u001b[0;31mFileNotFoundError\u001b[0m: [Errno 2] No such file or directory: \"/content/drive/MyDrive/THESIS/Dataset logistics/Job's dataset\""
          ]
        }
      ]
    },
    {
      "cell_type": "code",
      "metadata": {
        "id": "ph_xkuFg7zZg"
      },
      "source": [
        "import csv, json, sys"
      ],
      "execution_count": 2,
      "outputs": []
    },
    {
      "cell_type": "code",
      "metadata": {
        "id": "Sv8CrnJ971DK"
      },
      "source": [
        "def TranscriptExtractor():\n",
        "    \n",
        "    \"This Function extracts a list from the dataset with the following string contents: [Video_ID, Video_Category, Video_Transcript, Video_Rating]\"\n",
        "    \"Taken from Job's scripts to match the ratings made by Alfano et al with the transcripts\"\n",
        "    \n",
        "    # first we load in all info from the youtube.csv we need\n",
        "    with open(\"/content/drive/MyDrive/THESIS/Dataset logistics/Job's dataset/YouTube.csv\", mode='r') as infile:\n",
        "        reader = csv.reader(infile)\n",
        "        youtube_ranked = []\n",
        "        for rows in reader:\n",
        "            youtube_ranked.append(rows)\n",
        "        youtube_ranked_data = {}\n",
        "\n",
        "    for listed in youtube_ranked:\n",
        "        youtube_ranked_data.update({listed[1][32:]: listed[5]})\n",
        "\n",
        "    ## now for the transcript data\n",
        "    id_cat_transcripts = []\n",
        "\n",
        "    # firearms\n",
        "    with open(\"/content/drive/MyDrive/THESIS/Dataset logistics/Job's dataset/firearms_transcript.json\") as f:\n",
        "        data_transcript_firearms = json.load(f)\n",
        "    # here we fill up a dataset with: [ID, Transcript, Final rating] for firearms\n",
        "    id_transcripts_firearms = list(data_transcript_firearms.keys())\n",
        "    for id in id_transcripts_firearms:\n",
        "        id_cat_transcripts.append([id, data_transcript_firearms[id], youtube_ranked_data[id]])\n",
        "\n",
        "    # fitness\n",
        "    with open(\"/content/drive/MyDrive/THESIS/Dataset logistics/Job's dataset/fitness_transcript.json\") as f:\n",
        "        data_transcript_fitness = json.load(f)\n",
        "    # here we fill up a dataset with: [ID, Transcript, Final rating] for fitness\n",
        "    id_transcripts_fitness = list(data_transcript_fitness.keys())\n",
        "    for id in id_transcripts_fitness:\n",
        "        id_cat_transcripts.append([id, data_transcript_fitness[id], youtube_ranked_data[id]])\n",
        "\n",
        "    # gurus\n",
        "    with open(\"/content/drive/MyDrive/THESIS/Dataset logistics/Job's dataset/gurus_transcript.json\") as f:\n",
        "        data_transcript_gurus = json.load(f)\n",
        "    # here we fill up a dataset with: [ID, Transcript, Final rating] for fitness\n",
        "    id_transcripts_gurus = list(data_transcript_gurus.keys())\n",
        "    for id in id_transcripts_gurus:\n",
        "        id_cat_transcripts.append([id, data_transcript_gurus[id], youtube_ranked_data[id]])\n",
        "\n",
        "    # martial_arts\n",
        "    with open(\"/content/drive/MyDrive/THESIS/Dataset logistics/Job's dataset/martial_arts_transcript.json\") as f:\n",
        "        data_transcript_martial_arts = json.load(f)\n",
        "    # here we fill up a dataset with: [ID, Transcript, Final rating] for fitness\n",
        "    id_transcripts_martial_arts = list(data_transcript_martial_arts.keys())\n",
        "    for id in id_transcripts_martial_arts:\n",
        "        id_cat_transcripts.append([id, data_transcript_martial_arts[id], youtube_ranked_data[id]])\n",
        "\n",
        "    # natural foods\n",
        "    with open(\"/content/drive/MyDrive/THESIS/Dataset logistics/Job's dataset/natural_foods_transcript.json\") as f:\n",
        "        data_transcript_natural_foods = json.load(f)\n",
        "    # here we fill up a dataset with: [ID, Transcript, Final rating] for fitness\n",
        "    id_transcripts_natural_foods = list(data_transcript_natural_foods.keys())\n",
        "    for id in id_transcripts_natural_foods:\n",
        "        id_cat_transcripts.append([id, data_transcript_natural_foods[id], youtube_ranked_data[id]])\n",
        "\n",
        "    # tiny houses\n",
        "    with open(\"/content/drive/MyDrive/THESIS/Dataset logistics/Job's dataset/tiny_houses_transcript.json\") as f:\n",
        "        data_transcript_tiny_houses = json.load(f)\n",
        "    # here we fill up a dataset with: [ID, Transcript, Final rating] for fitness\n",
        "    id_transcripts_tiny_houses = list(data_transcript_tiny_houses.keys())\n",
        "    for id in id_transcripts_tiny_houses:\n",
        "        id_cat_transcripts.append([id, data_transcript_tiny_houses[id], youtube_ranked_data[id]])\n",
        "\n",
        "    ## we now have a full set of 600 entries containing all video ID's, categories, transcripts and rankings\n",
        "    # print(id_cat_transcripts)\n",
        "\n",
        "    # NOW! let's remove all empty transcripts\n",
        "    id_cat_transcripts_emptycleaned = []\n",
        "\n",
        "    for unit in id_cat_transcripts:\n",
        "        if unit[1] == '':\n",
        "            continue\n",
        "\n",
        "        elif unit[1] == \" \":\n",
        "            continue\n",
        "            \n",
        "        else:\n",
        "            id_cat_transcripts_emptycleaned.append(unit)\n",
        "\n",
        "    return id_cat_transcripts_emptycleaned"
      ],
      "execution_count": null,
      "outputs": []
    },
    {
      "cell_type": "code",
      "metadata": {
        "colab": {
          "base_uri": "https://localhost:8080/"
        },
        "id": "GJ7zpKlEAVvy",
        "outputId": "d3f49271-a2d4-46d7-a5b0-6275f885e959"
      },
      "source": [
        "alfano_et_al = TranscriptExtractor()\n",
        "\n",
        "type (alfano_et_al)"
      ],
      "execution_count": null,
      "outputs": [
        {
          "output_type": "execute_result",
          "data": {
            "text/plain": [
              "list"
            ]
          },
          "metadata": {
            "tags": []
          },
          "execution_count": 5
        }
      ]
    },
    {
      "cell_type": "code",
      "metadata": {
        "colab": {
          "base_uri": "https://localhost:8080/"
        },
        "id": "HHklZOO5A-AJ",
        "outputId": "f8143abf-6fa3-4282-84df-7feadf34b0f3"
      },
      "source": [
        "#Sanity check on Alfano et al, as extracted from Job's dataset with Job's code\n",
        "\n",
        "print(len(alfano_et_al))"
      ],
      "execution_count": null,
      "outputs": [
        {
          "output_type": "stream",
          "text": [
            "480\n"
          ],
          "name": "stdout"
        }
      ]
    },
    {
      "cell_type": "code",
      "metadata": {
        "colab": {
          "base_uri": "https://localhost:8080/"
        },
        "id": "occ-GXd2NODq",
        "outputId": "03a24a8d-7f3d-47eb-a1df-869f3382889a"
      },
      "source": [
        "alfano_et_al[0]"
      ],
      "execution_count": null,
      "outputs": [
        {
          "output_type": "execute_result",
          "data": {
            "text/plain": [
              "['_0ah0X92wdY',\n",
              " \"do not attempt to make any of the devices shown in this video this information is presented for the benefit of persons with an interest in firearm science and who just want to know how things work we now examine the construction of improvised suppressors our first unit is designed for the 22 caliber pistol  [Music] the body of the suppressor is made from ordinary one-inch steel electrical conduit it is cut using a pipe cutter this achieves a flush smooth end  standard 1 H grommet will provide our baffles these grommets fit nicely inside the 1-inch steel conduit and are therefore self aligning sometimes the grommets will require a little bit of grinding to achieve this ideal fit  the one-inch steel conduit at top is one inch inside diameter the aluminum tubing below is one inch outside diameter this means that the aluminum tubing slips inside the one inch conduit the aluminum tubing will provide spacers for our grommets  the standard one-inch grommets thus fit flush and even with the 1 inch aluminum spacers [Music]  brass tubing is also available in one inch outside diameter  in this first design a piece of brass tubing will be used as a barrel extension this tubing has the same outside diameter as the holes in the grommets cuts are made in the barrel extension to allow the gas to escape into the dampening materials a high quality epoxy is used to attach the grommets to each end of the barrel extension  a piece of steel screening is cut the length of the space between the two grommets  the steel screening is in wrapped around the barrel extension  rubber bands are used to temporarily hold the screening in place  the screen is then secured with metal twist ties  [Music]  using a technique of the class three manufacturing pros white lithium grease is added to the screening material this will help cool the hot expanding gases  [Music]  a small piece of screen is rolled up and inserted into the aluminum spacers as well it expands providing the bullet path and the actual assembly lithium grease would be used on this screen as well let's examine the main components of this assembly first we have the nut epoxied into a end cap followed by the barrel extension relieved to allow the gases to escape next come the aluminum spacers between each is a grommet at the end a rubber wipe the first bullet will cut the hole through the rubber wipe an electrical conduit end cap will complete the assembly these electrical conduit end caps snap fit into the one-inch conduit  [Music] this first design for the 22 caliber pistol will make use of the commercially available muzzle adaptor couplings shown earlier a nut with threads that match the muzzle coupling is epoxy to the inside of the electrical conduit end cap a hole is cut in this end cap just large enough for the muzzle threads of the adapter to pass through [Music]  the standard nut fits nicely in the end cap and the actual assembly it will be epoxy down and the hole would be larger  the endcap is coated with epoxy and then tapped with a hammer to seal the unit a [Music] wooden dowel is used to aid and the Assembly of the suppressor first a barrel extension followed by the aluminum spacers and a grommet  [Music]  note that the grommets are inserted pointy in towards the muzzle of the weapon [Music]  the spaces are stacked with the grommet between each spacer  [Music] with the aid of the wooden dowel the entire assembly can then be inserted into the one-inch conduit body [Music]  [Music] the wooden dowel is then removed and the final rubber wipe inserted and the actual assembly the end cap will be epoxy Don a coating of flat black paint and our unit is ready to test  [Music]  units of this type design register approximately 70 decibels  [Music] note that it's 71 decibels our 22 conduit suppressor is a little bit louder than the book drop in a little quieter than the balloon pop our second unit uses a PVC suppressor body the nut has been epoxy into this smaller piece of PVC tubing in the actual assembly this part would be inserted with PVC cement to secure it to the suppressor body in this design a barrel extension is not used a piece of metal screening is flattened out and the steel wool spread and pressed against its surface [Music]  a wooden dowel is used to roll the steel wool up again the screening material [Music] the screening material will be secured with a piece of copper wire our one inch OD aluminum spacers used in the previous design will be used here to cap each end of the screen and steel wall assembly this will allow this assembly to be inserted into the PVC body more easily and will also align the bullet path  [Music] removing the wooden dowel we can observe the bullet path in the actual assembly the aluminum spacers would be epoxy the entire assembly is then slid into the PVC body the PVC body has an inside diameter of one edge the wooden dowel is used to recheck bullet path alignment a grommet is added which secures alignment  and a small rubber washer in preparation for our final life  our final wine will be cut from this thick piece of rubber a piece of the PVC tubing will be used as a template  and the wipe simply cut out with scissors  the rubber wipe is inserted inside the PVC end cap the first shot who established a bullet path through the PVC wipe the PVC end cap containing the white is then pressed over the PVC body in the actual assembly this part would be secured using PVC cement [Music]  the PVC cement makes a very secure and easy hold however it makes a permanent installation the caps cannot review removed to replace parts the suppressor  this design proved more effective than our conduit yet shown previously this PVC unit registered 63 decibels slightly louder than the pellet gun the unit was also longer than us had more internal volume but the use of screen instead of a cut barrel extension likely accounts the superior performance of the PVC in it the bottom line is that how loud something sounds is quite subjective being interpreted by the brain through the sensor of the human ear a firearm suppressor works much like an automobile muffler which cools and baffles the hot gases of an internal combustion engine before they exit to tailpipe likewise a suppressor cools and reduces the hot expanding higher velocity gases produced by the burning propellant of the cartridge machine tools provide the ideal solution to both the alignment and attachment problem and can use metal rather than flexible rubber wipes due to the precise tolerances machine tools can maintain without the benefit of machine tools and provide suppressors must use rubber wipes these burn out fairly quickly in effect accuracy since they often touch the bullet as it exits the light machine tool units are thus more durable and can be made so precisely that the bullet never touches any internal wipe this makes machine tool units more accurate but as we have demonstrated improvised units can be just as quiet as the best machine tool manufactured units finally those silencers are portrayed in the movies as instruments of spies and assassins no suppressor is so efficient that the shot cannot be heard nearby the reality is that suppressors will wants popular items with sportsmen and target shooters simply because in reducing noise and muzzle blast they make firearms more pleasant to shoot I hope you found our video entertaining and informative thank you\",\n",
              " '1']"
            ]
          },
          "metadata": {
            "tags": []
          },
          "execution_count": 7
        }
      ]
    },
    {
      "cell_type": "code",
      "metadata": {
        "id": "6VUGjFV1m5yV"
      },
      "source": [
        "unq_transcripts = set ()\n",
        "unq_indices = []\n",
        "\n",
        "for i, el in enumerate(alfano_et_al):\n",
        "  \n",
        "  if el[1] in unq_transcripts:\n",
        "    continue\n",
        "\n",
        "  else:\n",
        "    unq_transcripts.add(el[1])\n",
        "    unq_indices.append(i)"
      ],
      "execution_count": null,
      "outputs": []
    },
    {
      "cell_type": "code",
      "metadata": {
        "colab": {
          "base_uri": "https://localhost:8080/"
        },
        "id": "NTQzmlOXncwy",
        "outputId": "329c7964-3666-44be-8301-84fff8a195b7"
      },
      "source": [
        "len(unq_transcripts)"
      ],
      "execution_count": null,
      "outputs": [
        {
          "output_type": "execute_result",
          "data": {
            "text/plain": [
              "379"
            ]
          },
          "metadata": {
            "tags": []
          },
          "execution_count": 9
        }
      ]
    },
    {
      "cell_type": "code",
      "metadata": {
        "id": "G2QHf-F0pG6h"
      },
      "source": [
        "alfano_unq = []\n",
        "\n",
        "for i, el in enumerate(alfano_et_al):\n",
        "\n",
        "  if i in unq_indices:\n",
        "    alfano_unq.append(el) "
      ],
      "execution_count": null,
      "outputs": []
    },
    {
      "cell_type": "code",
      "metadata": {
        "colab": {
          "base_uri": "https://localhost:8080/"
        },
        "id": "02zNbFzwOAvl",
        "outputId": "88904626-cd11-4c74-9a95-3f9e2aa60ee6"
      },
      "source": [
        "len(alfano_unq)"
      ],
      "execution_count": null,
      "outputs": [
        {
          "output_type": "execute_result",
          "data": {
            "text/plain": [
              "379"
            ]
          },
          "metadata": {
            "tags": []
          },
          "execution_count": 11
        }
      ]
    },
    {
      "cell_type": "code",
      "metadata": {
        "colab": {
          "base_uri": "https://localhost:8080/"
        },
        "id": "zYXNraU_OCdz",
        "outputId": "533dd0c5-158e-460d-b1b7-6349e9721b25"
      },
      "source": [
        "alfano_unq[0]"
      ],
      "execution_count": null,
      "outputs": [
        {
          "output_type": "execute_result",
          "data": {
            "text/plain": [
              "['_0ah0X92wdY',\n",
              " \"do not attempt to make any of the devices shown in this video this information is presented for the benefit of persons with an interest in firearm science and who just want to know how things work we now examine the construction of improvised suppressors our first unit is designed for the 22 caliber pistol  [Music] the body of the suppressor is made from ordinary one-inch steel electrical conduit it is cut using a pipe cutter this achieves a flush smooth end  standard 1 H grommet will provide our baffles these grommets fit nicely inside the 1-inch steel conduit and are therefore self aligning sometimes the grommets will require a little bit of grinding to achieve this ideal fit  the one-inch steel conduit at top is one inch inside diameter the aluminum tubing below is one inch outside diameter this means that the aluminum tubing slips inside the one inch conduit the aluminum tubing will provide spacers for our grommets  the standard one-inch grommets thus fit flush and even with the 1 inch aluminum spacers [Music]  brass tubing is also available in one inch outside diameter  in this first design a piece of brass tubing will be used as a barrel extension this tubing has the same outside diameter as the holes in the grommets cuts are made in the barrel extension to allow the gas to escape into the dampening materials a high quality epoxy is used to attach the grommets to each end of the barrel extension  a piece of steel screening is cut the length of the space between the two grommets  the steel screening is in wrapped around the barrel extension  rubber bands are used to temporarily hold the screening in place  the screen is then secured with metal twist ties  [Music]  using a technique of the class three manufacturing pros white lithium grease is added to the screening material this will help cool the hot expanding gases  [Music]  a small piece of screen is rolled up and inserted into the aluminum spacers as well it expands providing the bullet path and the actual assembly lithium grease would be used on this screen as well let's examine the main components of this assembly first we have the nut epoxied into a end cap followed by the barrel extension relieved to allow the gases to escape next come the aluminum spacers between each is a grommet at the end a rubber wipe the first bullet will cut the hole through the rubber wipe an electrical conduit end cap will complete the assembly these electrical conduit end caps snap fit into the one-inch conduit  [Music] this first design for the 22 caliber pistol will make use of the commercially available muzzle adaptor couplings shown earlier a nut with threads that match the muzzle coupling is epoxy to the inside of the electrical conduit end cap a hole is cut in this end cap just large enough for the muzzle threads of the adapter to pass through [Music]  the standard nut fits nicely in the end cap and the actual assembly it will be epoxy down and the hole would be larger  the endcap is coated with epoxy and then tapped with a hammer to seal the unit a [Music] wooden dowel is used to aid and the Assembly of the suppressor first a barrel extension followed by the aluminum spacers and a grommet  [Music]  note that the grommets are inserted pointy in towards the muzzle of the weapon [Music]  the spaces are stacked with the grommet between each spacer  [Music] with the aid of the wooden dowel the entire assembly can then be inserted into the one-inch conduit body [Music]  [Music] the wooden dowel is then removed and the final rubber wipe inserted and the actual assembly the end cap will be epoxy Don a coating of flat black paint and our unit is ready to test  [Music]  units of this type design register approximately 70 decibels  [Music] note that it's 71 decibels our 22 conduit suppressor is a little bit louder than the book drop in a little quieter than the balloon pop our second unit uses a PVC suppressor body the nut has been epoxy into this smaller piece of PVC tubing in the actual assembly this part would be inserted with PVC cement to secure it to the suppressor body in this design a barrel extension is not used a piece of metal screening is flattened out and the steel wool spread and pressed against its surface [Music]  a wooden dowel is used to roll the steel wool up again the screening material [Music] the screening material will be secured with a piece of copper wire our one inch OD aluminum spacers used in the previous design will be used here to cap each end of the screen and steel wall assembly this will allow this assembly to be inserted into the PVC body more easily and will also align the bullet path  [Music] removing the wooden dowel we can observe the bullet path in the actual assembly the aluminum spacers would be epoxy the entire assembly is then slid into the PVC body the PVC body has an inside diameter of one edge the wooden dowel is used to recheck bullet path alignment a grommet is added which secures alignment  and a small rubber washer in preparation for our final life  our final wine will be cut from this thick piece of rubber a piece of the PVC tubing will be used as a template  and the wipe simply cut out with scissors  the rubber wipe is inserted inside the PVC end cap the first shot who established a bullet path through the PVC wipe the PVC end cap containing the white is then pressed over the PVC body in the actual assembly this part would be secured using PVC cement [Music]  the PVC cement makes a very secure and easy hold however it makes a permanent installation the caps cannot review removed to replace parts the suppressor  this design proved more effective than our conduit yet shown previously this PVC unit registered 63 decibels slightly louder than the pellet gun the unit was also longer than us had more internal volume but the use of screen instead of a cut barrel extension likely accounts the superior performance of the PVC in it the bottom line is that how loud something sounds is quite subjective being interpreted by the brain through the sensor of the human ear a firearm suppressor works much like an automobile muffler which cools and baffles the hot gases of an internal combustion engine before they exit to tailpipe likewise a suppressor cools and reduces the hot expanding higher velocity gases produced by the burning propellant of the cartridge machine tools provide the ideal solution to both the alignment and attachment problem and can use metal rather than flexible rubber wipes due to the precise tolerances machine tools can maintain without the benefit of machine tools and provide suppressors must use rubber wipes these burn out fairly quickly in effect accuracy since they often touch the bullet as it exits the light machine tool units are thus more durable and can be made so precisely that the bullet never touches any internal wipe this makes machine tool units more accurate but as we have demonstrated improvised units can be just as quiet as the best machine tool manufactured units finally those silencers are portrayed in the movies as instruments of spies and assassins no suppressor is so efficient that the shot cannot be heard nearby the reality is that suppressors will wants popular items with sportsmen and target shooters simply because in reducing noise and muzzle blast they make firearms more pleasant to shoot I hope you found our video entertaining and informative thank you\",\n",
              " '1']"
            ]
          },
          "metadata": {
            "tags": []
          },
          "execution_count": 12
        }
      ]
    },
    {
      "cell_type": "code",
      "metadata": {
        "id": "KzN1vVHZneH7"
      },
      "source": [
        "def others_extracted():\n",
        "\n",
        "  csv.field_size_limit(sys.maxsize)\n",
        "  \n",
        "  with open(\"/content/drive/MyDrive/THESIS/Dataset logistics/Job's dataset/spring2020.csv\", 'r', encoding='utf8') as f:\n",
        "        \n",
        "        spring2020 = list ()\n",
        "\n",
        "        csv_reader = csv.reader(f, delimiter=',')\n",
        "        for i, row in enumerate(csv_reader):\n",
        "          if i == 0:\n",
        "            continue\n",
        "          else:\n",
        "            spring2020.append(row)\n",
        "        \n",
        "        teamA = []\n",
        "        with open(\"/content/drive/MyDrive/THESIS/Dataset logistics/Job's dataset/data_team_a.csv\", 'r', encoding='utf8') as f:\n",
        "            csv_reader = csv.reader(f, delimiter=';')\n",
        "            for i, row in enumerate(csv_reader):\n",
        "                if i == 0:\n",
        "                    continue\n",
        "                else:\n",
        "                    teamA.append(row)            \n",
        "                    \n",
        "        teamB = []\n",
        "        with open(\"/content/drive/MyDrive/THESIS/Dataset logistics/Job's dataset/data_team_b.csv\", 'r', encoding='utf8') as f:\n",
        "            csv_reader = csv.reader(f, delimiter=',')\n",
        "            for i, row in enumerate(csv_reader):\n",
        "                if i == 0:\n",
        "                    continue\n",
        "                else:\n",
        "                    teamB.append(row)\n",
        "\n",
        "        spring2021 = []\n",
        "        with open(\"/content/drive/MyDrive/THESIS/Dataset logistics/data_spring2021.csv\", 'r', encoding='utf8') as f:\n",
        "            csv_reader = csv.reader(f, delimiter=',')\n",
        "            for i, row in enumerate(csv_reader):\n",
        "                if i == 0:\n",
        "                    continue\n",
        "                else:\n",
        "                    spring2021.append(row)\n",
        "\n",
        "  return spring2020, teamA, teamB, spring2021"
      ],
      "execution_count": null,
      "outputs": []
    },
    {
      "cell_type": "code",
      "metadata": {
        "id": "awf6vYCCr0Ju"
      },
      "source": [
        "albers, wegman1, wegman2, spring2021  = others_extracted()"
      ],
      "execution_count": null,
      "outputs": []
    },
    {
      "cell_type": "code",
      "metadata": {
        "colab": {
          "base_uri": "https://localhost:8080/"
        },
        "id": "zCE1KXywr-gr",
        "outputId": "bb4e07f2-d289-4971-c1ab-95f812574e84"
      },
      "source": [
        "print(len(albers))\n",
        "print(len(wegman1))\n",
        "print(len(wegman2))\n",
        "print(len(spring2021))"
      ],
      "execution_count": null,
      "outputs": [
        {
          "output_type": "stream",
          "text": [
            "46\n",
            "17\n",
            "40\n"
          ],
          "name": "stdout"
        }
      ]
    },
    {
      "cell_type": "code",
      "metadata": {
        "colab": {
          "base_uri": "https://localhost:8080/"
        },
        "id": "TiLPnO-QsQbw",
        "outputId": "b01dbc1e-3842-4c1d-f4cf-7b10b752a2fe"
      },
      "source": [
        "albers[0]"
      ],
      "execution_count": null,
      "outputs": [
        {
          "output_type": "execute_result",
          "data": {
            "text/plain": [
              "['xrhIAf5Pdfc',\n",
              " 'We’ve heard a lot of hype about 5G  And today,  we are going to expose some truth  and find out about what it’s really about  What is the 5G cellular network and what exactly is it capable of  What does the equipment and hardware looks like  And what should you watch out for  And the most important questions  Is there a deeper agenda behind 5G  And how does that relate to things like mind control and energy weapons  Find out now  On today’s edition of Edge of Wonder  The truth about 5G  Welcome to Edge of Wonder.  We’re you’re hosts.  I’m Rob.  And I’m Ben  It seems that everyone is talking about 5G in the recent months  and we’ve been seeing it all over the news.  Many of yalls have been requesting it in the comments and in our inboxes  Today we’ll finally going to put this one to bed.  In part one of our two part series,  we’ll go far and cover what 5G is and everything that it’s capable of…  Causing cancer? Controlling consumer behavior? 5G weapons? We’ve got a great episode for you today.  Let’s get our everyone on the same page.  What is 5G?  5G is the fifth generation wireless technology  that’s currently being developed and implemented around the world to replace 4G LTE.  Get this, it’s supposed to be 100 times faster!  5G relies on higher frequency waves like millimeter waves  to support faster speeds and improve your mobile experience.  You’ll see faster download and upload speeds.  And for men, it’s so fast your beards may even burn off while your using it.  Maybe.  The delay in communication between devices and wireless networks known as latency will decrease.  5G is low latency.  What’s the current state of 5G cellular technology?  According to the FCC, 5G will operate on three different spectrum bands in the US.  There’s Low-band, Mid-band, and millimeter wave (high band).  You can think of these spectrum bands as the roads and data transferred as the cars on the road.  The straighter and more direct the road,  the faster that cars can drive on it.  The same analogy applies here.  Without going into too many specifics here,  basically, these higher frequency waves can’t travel as far.  Sort of like how at home you have to be close enough to the wifi wireless device to get a signal.  5G stations can only cover less than one square mile  so it’ll only work with a expansive network of antennas on top of existing infrastructure.  What does this technology look like? What should you be looking out for?  If 5G has been rolled out in your neighborhood,  you might see microcells or small boxes hung on an existing telephone poles,  street lights, or off a side of a building.  You also might notice that you grow another head,  or your leg falls clean on your midnight 7-11 slurpee run.  You know you still drink those.  So, in order for cell phones and other devices with 5G capabilities to communicate with these 5G small cells,  they will need a 5G chip.  Qualcomm released its new Snapdragon X55 5G modem  which can run on 2G through 5G  and promises to “significantly boost the speed, coverage, and responsiveness of wireless networks”  That was a mouthful,  It was.  5G will support autonomous vehicles, additional surveillance cameras,  remote controlled heavy machinery, advancements of internet of things.  Our community probably already understands where this is going… surveillance,  remote controlled heavy machinery,  super smart appliances… but we’ve only scratched the surface.  Let’s just introduce Hal and the Terminator into our homes.  Isn’t that basically what we have with Alexa and Amazon thing  Like turning on by itself, doing weird things?  Exactly  So at best, Edge of Wonder videos will load faster on our phones and at worst,  big brother is watching you or we should say deep state in this case?  No no no, it’s not like that.  Let’s go one level deeper.  I mean I’ve been alluding to it … How does 5G actually affect the people,  Ben?  In an appeal to the United Nations,  over 240 scientists and doctors with published research from 41 nations  listed out the side effects of exposure to non-ionizing electromagnetic ﬁelds or EMFs.  I have no idea how you survive that paragraph  What falls under the category of EMFs? EMFs include radiofrequency radiation (RFR),  cellular and cordless phones,  their base stations, WiFi broadcast antenna, smart meters, and baby monitors.  I mean BABY MONITORS?! Ugh …  How do these EMFs affect us? “Eﬀects include increased cancer risk,  cellular stress,  increase in harmful free radicals, genetic damages,  structural and functional changes of the reproductive system,  learning and memory deﬁcits, neurological disorders,  and negative impacts on general well-being”  General well being, I mean this just sounds terrible.  Even the Epoch Times highlighted an occurrence where one hundred and fifty dead birds fell out of trees  and onto the ground of a park in The Hague,  Netherlands due to a nearby 5G network antenna.  Dr. Martin Pall, professor emeritus at Washington State University and a leading EMF expert,  spoke at the National Institute of Health about the dangers of 5G.  He expressed his concerns that “EMF effects will lead to existential threats to our survival”.  Existential?  The top three among them being reproductive effects,  neurological or neuropsychiatric effects,  and the germ line mutation effects.  Why is it so concerning? It’s because these effects are cumulative.  When the effects compound to become more severe.  They become ultimately irreversible.  So basically our legs fall off and we grow additional heads.  So it’s very possible that technologically advanced countries to “suffer catastrophic drop[s] in human reproduction.”  And that to us,  sounds like a page out of Agenda 21 or the Deep State’s depopulation agenda.  The Michigan Safe Technology YouTube channel shared a clip from a legislation hearing  where Dr. Sharon Goldberg talks about the electromagnetic radiation  that causes deterioration of mental health as an epidemic leading to suicides, shootings, and opioid usage.  What are the effects on our environment or on animals?  “a detailed long-term field monitoring study was performed from 2006 through 2015  in the cities of Bamberg and Hallstadt, Germany.”  What they found was that the trees in low radiations areas showed no damage while a statistical analysis revealed that  “electromagnetic radiation from mobile phone masts is harmful for trees”  Even trees are affected! Another review by Alfonso Balmori also measured how exposure to electromagnetic radiation,  a form of environmental pollution can harm wildlife.  These animals suffer deterioration in health and reproductive issues—ultimately leading to a decline in animal populations.  But hey faster downloads and uploads right  So no animals and plants aren’t an exception.  What about humans? Exactly.  They’re endangered by the rapid development of electromagnetic radiation caused by cellular technology.  We just discussed examples of how electromagnetic frequencies like 5G can affect our health,  but is there an even more nefarious agenda behind 5G?  5G promises super fast data transfer which can accelerate different implementations of the internet of things  “Architects of 5G envision a world where pill bottles,  refrigerators,  hair brushes” will use small antennas that connect to a IoT network  Why would we ever need that?!  Some examples that might require 5G are pantry items that text you when you’re low in stock at home,  smart appliances that adjust to your behavior,  self-driving cars that can anticipate your schedule.  So basically you just stop thinking at all and be completely controlled by your device.  Yeah I’ll be sitting there drooling from brain inactivity and I’m going to need a text next time I have to use the bathroom.  Beep beep Rob you have a bowel movement  Haha right! All these “smart” things are additional data points  that a company can collect to understand and predict consumer behavior.  This is reminiscent of William Cooper’s concept of economic shock  testing which we’ve referenced in our deep state series.  Cooper describes economic shock testing as the phenomenon where “prices of commodities are shocked,  and the public consumer reaction is monitored.”  So when staples such as “beef, coffee,gasoline, or sugar” will suddenly spike in price or availability,  people will also drastically respond to that change.  These shock waves can be monitored through “changes in advertising,  prices,  and sales of that and other commodities”  and “interpreted theoretically by computers”  so that the psycho- economic structure of the economy is thus discovered.”  Basically, you can manipulate people to do certain things by understanding their relationship to the economy.  Economic shock testing tries to convince the public that certain “experts”  “should take control of the money system and reestablish security  (rather than liberty and justice) for all.”  I mean they’ve been doing this with ads and all of these stuff for years right  But now they have tools that can actually help them hone this even more  So we are aware that this stuff has been going on forever you guys  Facebook hack  Amazon  While the government already has a pretty good grasp of a macro trends in consumer behavior,  the internet of things and 5G will give detail to consumer behavior that they never had before.  So again, we touch upon more mind-blowing concepts  from William Cooper’s Behold a Pale Horse in our deep state series.  If you haven’t checked that out yet, it’s a series you don’t want to miss,  so go back and watch that after this.  Some of the helpful or convenient solutions brought out through the internet of things actually seem kind of invasive…  Now here might be one of the most disturbing effect of 5G.  We’re still unraveling this one ourselves.  Do you guys remember our “Voice of God” mind control technology video?  Dude where have you been? Go watch! It’s nuts.  We mention in a previous episode a while back,  how the voice of God technology could use cell phone towers  to send out these signals via these psycho-electronic weapons.  There’s a few more patents related to 5G that we should expose.  Hendricus G. Loos’s patented a method to manipulate a subject’s nervous system  when they’re near a device emitting electromagnetic fields.  Well this just sounds Hendriculous.  Get it …  Yeah that was bad  Well epic name aside,  this patent describes how a computer program can routinely pulse a frequency  from a monitor to affect the subject’s nerves.  The application status of this patent is still active,  which means it’s possible a company to potentially implement 5G technology  to induce certain behaviors and reactions in people this year.  That name definitely sounded too funny to be real  You mean it was rather Hendriculous?  Yes and you know what,  some folks speculate that it may be a pseudonym for Professor Ross Adey—Who was Professor Ross Adey?  Well, you’ll find many things online about Professor Ross Adey.  In his obituary,  it says that he was “a leading and controversial figure on the effects of electromagnetic fields”  He studied brain physiology at Oxford University and then joined the Brain Research Institute at UCLA in 1961.  There, he studied how extremely low frequencies or ELFs affect the human brain and nervous system.  Adey demonstrated how electromagnetic field radiation affects brain tissue.  Soon after,  Motorola found out what he was doing and hired him  and Jerry Phillips to “research ” effects of cellphone radiation on tissue.  From their research,  they “observed a decrease in central nervous system tumors in animals exposed to cell-phone frequencies”.  Afterwards, Motorola ended their project and downplayed the results,  but, this doesn’t make any sense…  why would Motorola end a project that reduces tumors.  Maybe just maybe they observed the opposite results like all the other scientists that we mentioned above  found that cell-phone radiation could increase tumors.  An interesting footnote to this side story is that Motorola Mobility is now owned by China’s Lenovo.  Just keep that tidbit in mind for the rest of this 5G series.  So back to the patent.  under the pseudonym Hendricus G. Loos’,  he wrote up another patent for an ” apparatus and method for generating  and containing plasma having ultra high temperatures”.  How we understand this patent is that this apparatus has the ability to “generate and contain energy at ultrahigh temperatures”  using “electromagnetic means”  Why that’s suspicious is that the company associated with this patent  is Plasmadyne Corporation which based out of Santa Ana,  California …  Sounds like Cyberdyne?  You know  Just saying  Some speculation here,  but could there be a way that the direct energy weapons starting those fires in California  and burning houses down to the ground,  as David Wilcock said, boring holes through cars,  and burning trees from the inside out could be influenced by Hendricks  Hendickry dickry ducks  Hendricus G. Loos’s technology?  Whatever that guy’s name is,  let’s just keep going  All this to say,  5G is a type of electromagnetic frequency.  Could 5G technology that’s being developed be used to manipulate people’s behavior  or be used to generate ultrahigh temperature energy to be used as a directed energy weapon?  You can find all this information publicly available on patents.google.com  and we encourage you to do your own research.  Before we wrap up, please go check out our platform, edge of wonder dot tv.  Edge of Wonder TV is the platform where we’ll host all of our videos… including the EXCLUSIVES that we can’t post on YouTube.  We’ll post episodes early so subscribers get those early access videos!  We’ll also do weekly livestreams covering sensitive topics that we can’t cover here.  We are also gonna have our personal channels on there and a lot of premium content,  Subscriptions are 9.99 a month and you get 10% off if you subscribe annually.  Pretty good deal  We’ll premier new, uncensored, long-form content featuring some of your favorite guests every month.  If you like want to support us and see more exclusive content,  subscribe on edgeofwonder dot tv  To wrap up, we covered what 5G technology comprises of and what technological breakthroughs it promises  100x download and upload speeds! The Internet of things! Autonomous vehicles!  We also highlighted the proven and well-documented dangers of electromagnetic frequencies (EMFs)  on humans, animals, and the environment.  5G may become an extremely invasive way to capture all your personal data  to understand and manipulate your behavior…  that is if your data is in the wrong hands.  Which basically is Facebook  What Facebook is doing  I mean who’s got that data  Anyway, they already have ours I’m sure  So this 5G tech could potentially be used to manipulate your behavior  and lastly, we dipped our toes in some of Hendricus Loos’s crazy plasma technology and how 5G can power it.  There’s no way you can say that with a straight face  Can’t  In the next episode,  we’ll talk about the 5G battle,  the cold war between the alliance and deep state.  So stay tuned and we’ll see you out—  on the edge!  on the edge  on the edge  on the edge  on the edge  on the edge  on the edge  on the edge  Structure structural and functional changes are the reproductive system  Learning and memory depth  Man this is  I think I’m gonna take this paragraph  Harmful free radicals  I kinda wanna be a free radical  That would not be good',\n",
              " '3']"
            ]
          },
          "metadata": {
            "tags": []
          },
          "execution_count": 16
        }
      ]
    },
    {
      "cell_type": "code",
      "metadata": {
        "colab": {
          "base_uri": "https://localhost:8080/"
        },
        "id": "AUo2PZ5ysTqW",
        "outputId": "b78f1975-2a3f-4260-f1fc-971aac22e07f"
      },
      "source": [
        "wegman1[0]"
      ],
      "execution_count": null,
      "outputs": [
        {
          "output_type": "execute_result",
          "data": {
            "text/plain": [
              "['2ACWWVuhwzc',\n",
              " \"alright guys this video is the only video you'll ever need to see to show you how fatal coronavirus is compared to the flu as it stands right now this is the only one you have to watch this is the easiest and simplest proof and facts that show as hard as it is to believe you know what I'm gonna say it I'm gonna draw any conclusions I'm just going to let you just make those up for your mind because I'm just gonna present these facts to you and you're gonna see and you have no choice to accept what is in front of you even those that are just blinded and think CNN is the actual real news network that tells the truth and if you like Donald Trump done like a Donald Trump ad ain't gonna matter you did this proof in front of you is undeniable so this is what looking at death rates from coronavirus Cove in nineteen in the United States as of April 29th or April 9th 2020 by state for one or a thousand right so this time people are dying per 100,000 people right it's very simple it doesn't matter who cares what it is the higher the number the more people are dying that's all comes down to this is deaths rates for influenza pneumonia in Canada from 22,000 to 2017 there's the numbers this is the ones in America so you know what don't need Canada let's just do America to America America to America alright and this is the numbers right there death by influenza pneumonia in the u.s. from the 50s to 2017 there's the number per 100,000 there's exact one per 100,000 right we're all on board here and in here we have the whole world and they have desper 1 million so obviously we all know that there's 10 100 thousands in a million because 10 times 1 our thousand is 1 million and if you want to do that you just have divided by 10 so if 71 divided by 10 is 7.1 380 divided by 10 is 38 so we're all I mean 3 yeah 38 right we're all falling along as it stands right now in New York has the highest deaths per 1000 people from Cove in 1932 now before we go into that I also have to give you full information that you do it probably haven't known about from leaked information from the National Vital Statistics system of Stephen Schwartz director or a doctor to see the shores director of vital statistic National Center for Health Statistics in Toledo Rhode Island erode Toledo road rather in heights Maryland this is the system that keeps track of all the deaths or kovin 19 and in reports there's websites like this okay now one thing you need to know is that should covin 19 here at the bottom be reported on the death certificate only with a confirmed test follow down below here Cova 19 should report on the death certificate for all the descendants where the disease caused and this is the highlight you might want to pay attention to or is assumed to have caused or contributed to death you guys got that or is consumed assumed like no proof but we assume that it contributed to death so it's like might have maybe it didn't the recovery iron line to see if there's like chronic conditions like COPD or asthma they also contributed or cancer or heart disease or who knows what could have contributed to it but you know what if it's if you have any if you think it it did in any way whatsoever though proof without even any testing mark it as a death but you know what forget I even said that you know what who cares let's just roll with this this is this role that they you know that they converse inaccurate and everyone who dies oak over 19 was a perfectly healthy stud muffin like yours truly and I just died okay that just died I'll God still going to improve you wrong for those people that are trying to say that the media is right and Kovan 19 is so bad and oh my god the world's ending we need to give up our freedoms and lock everybody up and start ticketing people and force vaccinations we need enforce vaccinations and get IDs and check posts and you can't leave your house without your confirmed coronavirus vaccination certificate that you are a clean upstanding citizen and we need your microchipped as well we need to force vaccination and microchipped you 32 worst in the all of america right display influenza last year was fourteen point two right for what our thousands just look at the numbers 32 14 damn that's horrible right I mean but I need to look back down these over here at 98 stuff before I guess they had vaccinations right look how high they were back then there's no vaccinations but we have vaccinations now he thoughts well we didn't back here and the worst place in the world right now New York 32 but let's not even pay attention to the rest of America that is 1 1 1 1 1 2 2 2 3 4 5 7 and when you add all these up together and put it as one country oh my god this 32 also turns into like an average of all the rest which is probably like a seven like a six five I don't know maybe a four because 99% of America is down here you know besides one two three four states the other the other 50 states are all ones that are not even reporting it's don't inhabited only that's time in fifty four states I didn't attend all of America maybe another fifty four states in America I'm Canadian I could be wrong on that so don't hold it to me doesn't matter my geography is not the test here what the point is you have to see these numbers but my god yeah we have vaccines eight thoughts who care so you got fourteen point three bit vaccinated B vaccine against the flu but still fourteen point three appeal per hundred thousand died yeah well hey man I mean if you just take all of America right now it's seven point one because you know we got desperate 1 million population right in USA you have to divide that by ten you get 7.1 how about Spain 38:33 the worst in the world Spain's 38 so are they're on par with like you know when it was really bad back in the 90s 80s you know [ __ ] man 70s we didn't shut down the country then we didn't like take people's rights away we didn't force vaccinations we didn't stop people's movements we didn't have 24/7 news people of fear-mongering I mean look at Canada Canada's two point one I mean can that was twenty one ten times as high the death rate per 100,000 in Canada was 21 last June 2017 you guys saw that 21 I mean should I bring it up here I think I have in my history don't I there is it right there yeah there's Canada right there 20 last year in 2017 20 what's it now it's the same per 1 million I mean that you only year oh you're getting it takes you a million people in Canada right now to equate the same level as it did here and people wondering like my wife wonders why do you make these videos eight thoughts why do you care why do you keep making these videos why you're trying to show people the truth I mean five point five and Iran thirty three point seven in Belgium and like here's the thing too that doesn't make any sense right I mean why why is the question doesn't make any sense why because I feel as if the more people that know about this the more people are awake I feel it's my duty even though you get so many dislikes that so many people leaving comments down below and getting so mad and telling me to go die and I you know you're such a loser and it's so big deal you're just stupid eight thoughts stick to make up on a call the duty beauty and these feels let me get that many views I just feel it's my duty that people need to know the truth because always see something's going on here this isn't making sense I mean 14.3 there is no state in America outside of New York that is that is at that Louisiana these places here that's it are on par with the with the flu yeah he thought you know what though could be so much higher if we weren't doing social distancing well Sweden isn't doing social distancing at me but if you guys don't know that Sweden is not doing social distancing not at all one thing they're doing is they require asking people they're older than 70 or have health problems maybe you should stay at home and social isolator not go out that much and schools are open elementary schools are open high schools are open bars are open restaurants are open businesses are open telling people to take precautions be smart about it try not to hang out too much but you know carry on with your lives and businesses are gonna keep going they have 91 deaths per 1 million that would equal 9.1 without any social distancing where they go Sweden were Dell are they who the hell are they Sweden right there 9.1 right here right lower than influenza has ever shown in the history of America or Canada I just I have to make these videos guys because I can't stand in any like I said also keeping the consideration or is assumed to have caused or you know ARCA to to death come on folks um is going on I don't know what it is if you're into agenda21 and conspiracies of new world order and controlling people and destroying small businesses so bigger businesses can get have more power and people that I put this out on Twitter and I know a lot of you could understand that you're like hey thoughts how is this gonna make people richer well when the stock market crashes people sell or people are short stocks I can't go on an accountant explain to you what shorting stocks is just Google at what is short and stocks people short stocks which means you're basically betting that it's gonna collapse they can do that in the stock market you're betting that the stock market's going to go down and you can make them a bunch of money what you do is this a simple explanation is if you have a lot of cash people are selling stocks because they rely on that for like their to pay bills they rely on it to like you know for interest rates and somebody then they start to panic and they sell well the rich buy it and then what inevitably inevitably the stock will go up again when everything settles and the rebounding of the economy occurs and they will sell back to the people that now originally sold it or didn't sell it or people who have money in the middle class as it always happens that money starts going back in the middle class and the rich sell it back to them again at a huge profit also small businesses start to get destroyed in the bigger businesses takeover like the you know the Walmart's the moment pop shops are gone the amazon's government the government corporate government run organizations also get contracts for all kinds of things with viruses with medical supplies who knows but I don't know guys might want to wake up to this you can't lie you can't deny these members there's this is right in front of you this is right in front of you it's right there one two three four come on seriously besides America I mean New York rather the rest of the country is below that that's per 100,000 in compared to Canada and below on average America expects you back in the 90s and what another four they had all these vaccines coming in for the whole people mostly Jesus all right also on top of that most bill dying from covert are all old this is all old people 99% old or people who are [ __ ] up to begin with all right I got to spread truth I can't stop myself I just I hate liars and I hate misinformation and I hate agendas and I don't trust the government and I don't trust you Andy's medical establishments because the stats show us we shouldn't trust them so I'm gonna keep making the videos that's it by\",\n",
              " '2']"
            ]
          },
          "metadata": {
            "tags": []
          },
          "execution_count": 17
        }
      ]
    },
    {
      "cell_type": "code",
      "metadata": {
        "colab": {
          "base_uri": "https://localhost:8080/"
        },
        "id": "xHzQi5pDsaTg",
        "outputId": "f19f57c6-0078-476e-8852-80943f8c95ee"
      },
      "source": [
        "wegman2[0]"
      ],
      "execution_count": null,
      "outputs": [
        {
          "output_type": "execute_result",
          "data": {
            "text/plain": [
              "['PVg2z5cJeB',\n",
              " \"joining us now on the line from Sherbrooke Quebec dr. jacques pepin who is the author of a new book called the origins of AIDS and dr. Pippen we're happy to have you on TV Oh tonight come on tell you it's a pleasure to be here with you today thank you very much well we have known of course about AIDS I guess conventionally speaking for 30 years now but you think it goes back further how far back do you trace the origins of AIDS the current estimation is that the first person who was infected with the virus got it from a chimpanzee and that person probably was infected around 1921 so it's almost 100 years ago how did the infection take place the most likely scenario is that a hunter eventually got a chimpanzee in one of his straps and while cutting out the chimpanzee made so to be able to bring back pieces of the animal to the village that hunter got hurt he injured himself with a with his knife if it was not the hunter then maybe it was the unto his wife in the village while preparing the meat so that's the most likely scenario because several other hypotheses have been examined and can now be rejected firmly so it's the only scenario that and that remains plausible now in which country do you think this took place in the the source of HIV one is chimpanzee a specific subspecies of chimpanzee which inhabits a limited part of Central Africa so that includes certain Cameroon a small part of the Central African Republic Congo Brazzaville Gabon and Equatorial Guinea's so the the very first person who started the pandemic was certainly certainly living in one of these countries and let me take us off the path just for a second here because you said HIV one which may be news for some people you you have them broken down into HIV 1 and 2 what's the difference well HIV 2 is virus which remained limited to some parts of West Africa so about two or three thousand kilometers away from the region where HIV 1 emerged the source of HIV 2 is a different primate it's actually a small monkey called the [ __ ] mangabey and the the virus is less pathogenic than HIV 1 and it's also less transmissible so if you look at the whole the old the old world about 99 percent of cases of AIDS are caused by HIV 1 and only 1 percent at most are caused by HIV 2 ok let's get back on the path now and let's return to Africa and have you tell us how you think colonial Africa's history played into the spread of AIDS and there were two factors that in my opinion played a substantial role and they were both related to the colonization of Central Africa so the first one was the urbanization of that part of the world the colonial power is created cities in which for several reasons there was a very substantial excess in the number of adult men compared to the number of adult women and the consequence of that which was predictable was the development of urban prostitution so that facilitated the sexual transmission of HIV one in the cities the other factor which was at least as important and perhaps even more important was the development of medical interventions for the control of a small number of tropical diseases so what happened is that the colonizing powers had mobile teams that visited each and every village twice a year they would try to find out everybody who had given a small number of infectious diseases and the people who were found to be to have these infectious diseases they were treated right there in the village with drugs that were administered intravenously and at the time the medical doctors were not aware that viruses could be transmitted through Salinger's and needles so the sterilization was inadequate and of course the syringes and needles were consistently constantly reused on a you know on a number of patients every day and there was certainly some transmission of HIV one through this mode of transmission iatrogenic infection well doctor Pippin let me actually read an excerpt from your book which follows up on what you just said you wrote I do not believe that transmission via medical interventions plays an important role in HIV dynamics today and I agree with the experts who maintain that it contributes to less than 5% of recent HIV infections although even a single case is unacceptable however I became convinced that transmission during health care contributed to the simultaneous emergence of hiv-1 and hiv-2 in different parts of the African continent 50 to 75 years ago and I gather you conclude that you yourself must have played a personal role in the spread of AIDS how so well I worked in the the Congo in the early 1980s for four years the country was then known as as a year I work in a small Hospital about five hundred kilometers northeast of Kinshasa and at the time of course HIV was not yet known but the the hepatitis B virus was known what I can say is that the time there was no preoccupation among the medical officers or among the a nursing personnel there was no preoccupation towards the potential transmission of viruses through syringes and needles what happened practically was that I was supervising a network of about 20 health centers which were located in small villages there was no electricity in these villages and the to sterilize the syringes and needles because we didn't have single-use syringes and needles at the time to sterilize the we just put into a small container with the tablet of formal and the the the vapor of formal that persisted in the container was certainly enough to kill the bacteria but I'm not sure that it was good enough to kill the viruses in in the hospital itself usually the sterilization of syringes and needles was pretty good but they were periods of time when there was no electricity for up to two months at a time and then we just the only way we could sterilize the syringes and needles was through the boiling but a data at the time like all other medical officers working in the country I was not preoccupied with the transmission of viruses and I didn't pay attention to how long the the actual boiling took place so it's it's plausible that a few patients under my care were infected with HIV through these injections well tell me whether we're still using the same drugs for the treatment of sleeping sickness we were using the same drugs that had been use in the 1920's 1930's and all of these drugs had to be given intravenously I don't mean to get all personal on with you here but you know that a doctor's first job is of course do no harm how does one live with the knowledge that you know that you may be responsible for having harmed patients well I guess that's a part of medicine and the you know eventually you kind of look at the the whole picture and if I look at the health care that was provided in that hospital during the four years I worked there I think overall the the health care saved the lives of certainly several hundreds and perhaps more so you know one has to accept that they can be negative effects fail care in some cases and that's that's that was unfortunate and I think there's there's a lesson from that story which I tell in the book which most of it actually took place much before I worked in the in the Congo is that we should be we being the medical profession and scientists in general we should be a bit more prudent when we manipulate nature in a way that we do not fully understand understood alright let's continue telling the story then of how aids started as you believed in central Africa but somehow made its way over to this hemisphere how do you think that happened what probably happened is in 1960 the Congo became independent rapidly there was a civil war within that country the Belgian doctors and teachers and nurses all left very suddenly and so to replace to replace these people the United Nations at first and eventually the Congolese government I heard several thousand a Asian teachers about four and a half thousand of them actually work in the Congo and lived there for at least a few years and the most likely scenario is that one of them and only one of them got infected with HIV brought it back to Haiti perhaps when this person went back for a vacation in his own country or perhaps see when they are permanently then there was some local transmission with an AAT and a few years later and it took just a few years the virus was eventually reacts ported through to the United States and there is a fair amount of evidence which suggests that this exportation from eighty to the US occurred through sexual tourism and all of that all these years later has led to more than sixty million people around the world being infected with HIV do you sometimes shake your head and and wonder how this one case began all of this misery it's really an incredible story is it about 65 million people actually have been infected and about half of them so 32 or 33 million so far up died so it's really I agree it's really an incredible story and it was at the beginning it wasn't a very unlikely scenario but in the book I try to explain the different the different factors which which are loud this pandemic to develop now you have put forward I gather what much of the medical community considers to be a very contrary theory to what we've been operating with for the past thirty years what's been what's been the conventional wisdom about how HIV and AIDS have spread since 30 years ago well the book addresses the the history of HIV before 1980 in 1981 is the year that the disease was first described and until my own book was published it was only a single book which addressed that part of the history of hiv/aids that book which which is called the river supported the theory that the origin of AIDS was caused by the contamination of an experimental vaccine against poliomyelitis the author speculated that chimpanzees cells had been used for the preparation of that vaccine and now there is ample evidence and there is a section in the book where I review these studies which were done after the publication of that book there is ample evidence that this did not happen some old vials of that experimental vaccines were actually located didn't contain any HIV and they didn't contain any DNA from chimpanzees so that theory can be rejected so now my book tries to assemble all different parts of the puzzle from that first case in 1921 until the the the disease was eventually recognized in 1981 what happened in the subsequent 30 years I don't want to give you the impression that injections that miracle injections played a substantial role I think after that most of the transmission was was sexual of course heterosexual and a more sexual intercourse it was some transmission among drug addicts so the that was transmission through injections but I think that after 1981 for several reasons the number of cases who got infected through medical injections much decreased but as you as I've written in the introduction and as you just mentioned I think that even a single case during health care now that we know about the virus about its its modes of transmission I think that's unacceptable and we should everything that's possible to try to avoid this you have certainly put a different theory out there and the medical world is starting to consider what you've put out there do you think the medical world is starting to accept your theory as opposed to the one it's been operating with for the past thirty years yes I think so far the book has been well accepted now of course it was published a few weeks ago so it's only will take some time before the book is is is read and criticized by a number of people I'm of course willing to accept criticism you know when you try to describe history which a story which began about 100 years ago in very isolated areas of Central Africa you've got to accept that there is a margin of error on some of the estimates which I've made in the book so I'm not pretending that it is 100% accurate but I think 90% I would I would be confident of that I think one of the areas where there is some imprecision is actually the date of that very first person infected I told you it was most likely to be 1921 but there is a margin of error so it's 19 19 21 plus or minus 10 years so it's possible that within the few years if additional studies are published maybe that that date of the very first case may change a little bit by a few years the confidence and interval on that may narrow narrow down but I don't think that would change substantially the various scenarios which I've explained in the book okay let me ask you one last question and that is you're at the university of sherbrooke in quebec you're not at the Centers for Disease Control you're not at UCLA you're not at some fancy University in France or England or Germany or whatever and you've put out this quite astonishing new theory that is capturing a lot of attention what's it like well the I think the the reason I was I was able to put that that story together was that I had worked in Africa for a number of years that that I had worked on sleeping sickness for many many years so I was aware of the treatments which had been used in the colonial era then I also worked on HIV control projects in Africa for a long time these were projects funded by cedar the Canadian International Development Agency so I did a lot of work with sex workers in in in Africa for many many years so I I can pretend that I know a lot about prostitution I think the fact that I I'm a francophone enabled me to read all these reports of the colonial era because the story took place in French and Belgian colonies so through all these various events in my personal professional life I was able eventually to to put the story together understood dr. jacques pepin we thank you very much for joining us on the line from Sherbrooke Quebec merci beaucoup it was a pleasure \",\n",
              " '1']"
            ]
          },
          "metadata": {
            "tags": []
          },
          "execution_count": 18
        }
      ]
    },
    {
      "cell_type": "code",
      "metadata": {
        "colab": {
          "base_uri": "https://localhost:8080/"
        },
        "id": "0eeOvSxJZxj_",
        "outputId": "758b3301-f248-48df-c848-205f8415cb68"
      },
      "source": [
        "spring2021[0]"
      ],
      "execution_count": 5,
      "outputs": [
        {
          "output_type": "execute_result",
          "data": {
            "text/plain": [
              "['_RU4e3KCwQI',\n",
              " \"hey folks how's it going jovan hutton bullets are here with you this evening and you know i'm going to point out some of the hypocrisy some of the weird stuff that's going on with getting to the bottom of this 2020 election and what exactly happened i'm going to talk about a report i'll post it where you can download it yourself this particular report is a 43-page report that was released regarding election interference and they're saying that none nothing occurred at all in this election that had any way to do with anything hokey pokey at all now i believe that you believe something was wrong i want to remind you what i stand for i'm going to play a video for you as everybody gets spooled up here i want to remind you what i stand for and what i'm saying needs to happen with our election but i'm going to call out the hypocrisy because the world uses the 2012 2012 russian presidential election as the standard for proving beyond a shadow of a doubt election fraud the 2012 election in russia is the standard for proving total election fraud from top to bottom the problem is our election in 2020 has the same blueprint and the exact same problems and i'm going to show you how they're hiding this in smoke and mirrors and an article came out on forbes about this [ __ ] report i'm going to show you how they baffle you with numbers but i want to remind you what i'm going for is i want to see the physical ballots if this country was founded on a great piece of paper called the declaration of independence then i believe that we should make sure that this country doesn't get undone because of a simple piece of paper called the ballot that ballot you had in your hand when you marked it whether you mailed it or went in that is the historical document of what you intended to vote what you intended to happen and how you intended for this country to be run that is why only that ballot matters get ready share this call your friends tell them to tune in i want to remind you what i look for in ballots and then we'll get on with the program with mail-in ballots being the most contested part of this recent general election let's take a look at the ballot as a simple piece of paper paper has memory if a ballot was mailed there will be folds throughout the paper physics say that once the paper is bent it can never go back to its original shape our systems can detect this while looking at the paper ballots through our systems we're not only able to tell was the ballot actually folded and mailed but we're also able to track did it go through the postal system and get accounted for while looking at these ballots we can look closely at the votes and we can tell whether the vote was cast by a human hand or a machine the human hand marking the oval leaves telltale signs of human dynamics however if the oval was filled in by a machine it looks totally different under computer vision examination besides there should be no ballots with already filled in votes these are just a few of the things that can be detected in the paper that is the ballot and remember the paper is a piece of code as well if that paper is misprinted or misaligned it will force the voting system to ask for adjudication adjudication means somebody an administrator so uh folks i want to i want to come back to the broadcast because i i tried to protect you against [ __ ] idiots like this mv tits dwo i'm doing my best to try to block it out of the broadcast here i have no idea why i can't block this freaking idiot please see this crap google drive you know what block it scammer i'm trying to get rid of it can't get rid of it and it's unfortunate that there are idiots out there that uh try to do that but right now i don't have control for some reason uh stream yards having issues connecting with my destination uh just basically block that [ __ ] idiot out and by the way you're a [ __ ] idiot if you think that pepsi is going to give you 1900 for covered [ __ ] relief tell you what you want to sell that [ __ ] go move to ethi [ __ ] opia not here anyway let's move on because that's about that's about as ignorant right of a pitch as we're getting pitched on this election right this little idiot who just came in trying to say that pepsi is going to give you 750 relief right for covert relief for pepsi that kind of idiotic stooge who would come into a public forum and post this should be running for office here in the united states because i tell you what that idiotic stooge would qualify to basically say hey this election is great and whatever and i'm going to call this system out because i don't like idiot stooges like that period that is the stupidest crap in the world and it is the stupidest crap in the world if you think there were no problems with this election okay period so let's get right down to it in 2012 the presidential election in russia since then has been held out as the most corrupt presidential election of any country in the world period any country in the world okay however here's a report by the federal government i'm going to talk about that calls out that russian election in 2012 same with uganda and the problem is our election in 2020 mirrors what happened both in russia and in uganda so let me show you how i got tipped in this story before i got pissed off at our ethiopian brother there trying to sell us pepsi covered relief so let's go here let's share my screen uh i wish i had i wish i had a button where i could let those idiots join in right because i'd love to see some idiot in ethiopia trying to sell that [ __ ] anyway let's go okay you ready for this this is uh an article that just came out in forbes magazine okay let me see if i can pump it up for you okay and you can read the headline for yourself okay election 2020 february 19 2021 803 eastern standard time 44 667 people have read this and yes i got the same blocking area trying to block that idiot whatever it was anyway okay so you see this here it basically says there was no evidence of election fraud and battleground states now the reason they say there was no election fraud is she quotes a report called the mitre corporation analysis of the eight battleground states blah blah blah that the presidential race wasn't stolen or fraudulent even as former president donald j trump and his allies continue to claim so there you go top magazines ford magazine lord knows i love forbes magazine love steve forbes had a long-term relationship with them right but this story by this allison durkee right has no basis on fact and they're trying to baffle you with [ __ ] called this report so the first thing i want to do for you is i want to give you a peek at this report okay and in this report what they attempt to do is push off to you baffling you with numbers okay baffling you with numbers that they did all this analysis and everything's perfect so let's go look at their analysis okay that we have with this well let me find it here uh let's see what it's going to be called data analytics there you go ready boom here's the report okay it's the m-i-t-r-e mitri miter i don't care what you call it but it's the data analytics to enhance election transparency now basically this uh report that you're seeing on my screen is done by their non-partisan national election security lab check this out they're even so patriotic at their national election security lab that their team ready for this their team is called the bald eagle team the bald eagle team right anyway in this bs report of the bald eagle team they're basically saying they looked at everything from arizona florida georgia michigan north carolina ohio pennsylvania and wisconsin with a focus on anomalies that have been held up by some in the gop as potential evidence of fraud now i like the way they word these things right period i like the way they word these things okay and it's really interesting how they use smoke and mirrors and so i know i only have to go through the first for the first six pages is kind of like the outline of this it's really kind of uh impressive right let me go to the outline let me see there so you look at the outline of it and they show all these things that they're going to do in these states and so you're looking at all these states dominion dominion machines butler county pennsylvania they have this thing i like this term they use the fair election fingerprint the fair election fingerprint that's their new statistical analysis but as they baffle you with the bs of numbers i'm going to decode geeky bs and i'm going to let you kind of make your own decision so now if you look at this report i'm just going to skim through this real quick you see how they have really nice and i'm going to see if i can pump it up for you because i want you to see it they went to a lot of trouble to do nice reports okay see these wonderful beautiful charts and reports and they use all these dots and they use these big words and everything else here's one of the things that stuck out to me in it at the very beginning of this report okay basically what they say is they leverage data analytics to identify anomalies leverage data analytics to identify anomalies well the very first thing these people said to all the data scientists looking at the numbers was you can't look at statistical analysis that's worth [ __ ] that doesn't prove anything yet in their own reports they're leveraging data analytics to identify anomalies now look at this now where do they gather their information they gather their information from election websites state government-run agencies right and then they monitored this is the kicker this is the kicker they monitored the media from october through the end of december to get a real take on what was really happening so their scale to monitor this was the media that's their analysis right that was their analysis is to basically monitor monitor the media as we go back to these charts and and the one i'm going to focus on is going to show you some georgia stuff because i think you need to know it so they chart it all out and they use all kinds of interesting charts they use a lot of interesting terms they basically denied binford's law which has established one and they come up with their new one fingerprint for georgia and it basically said they did this and they base it on a particular type of analytic right that they uh their fingerprinting uh provides now their particular fingerprint is by taking a gaussian or normal distribution of zero they use kurtosa the measurement of weight of tails by the way if i was measuring some tail i don't think i would use kurtosis and i think if i was wanting to measure any type of tail if i even suspected it had kurtosis that's probably tail i want to stay away from but anyway wouldn't you let's go back to this okay and so as we get into these analytics and you're looking at it they base all these nice little charts on okay here's the ratio and here's the math by when it and here's the logarithm by which we did it and it's a normal institution which is evenly distributed although it's normally uh curved however to be fair as long as we've got a negative 2.3 kurtosis which is fine but here's what i want to point out to you the russian presidential election of 2012 which is widely considered to have high levels of fraud you see that on my screen so that's what we're going to focus on they basically said they basically said uh you're right not for me to say has it right if you have kurtosis and measuring the tail that tail needs some antibiotics right totally totally that tails looks like it's got kurtosis yes so let's stay away from tail with kurtosis right okay so yeah that's some pretty nasty stuff but the tail has kurtosis anyway so we got this report and now we're just going to dive into it they basically said in this report that there are no anomalies i'm going to do the low-hanging fruit for you first and then they said russia is the standard for proving for proving okay that fraud occurred here we go so i'm diving into this report i'll post it for you so you can go to it but remember they said okay we where we monitored me the media from october to december 2020 to monitor any anomalies and they say their data is basically uh from the pre-election information bald eagle and it wasn't me bald eagle conducted analysis on data available on election day including dala related to early voting early voting methods and return and rejection rates of early balance so they say they go right up to election day now you and us know that even in this media stuff going through december all the facts were still coming out you didn't even know all the facts we didn't even know all the facts and in january the real numbers start coming down the pipe but so but let's just say their method is perfect and we're going to kind of let them do that okay and so i want to point out to you they basically started looking at alleged ballot harvesting now do you understand what ballot harvesting is that basically means it is totally legal in some states i think it's a scam but if somebody doesn't use their ballot you can go harvest their ballot like they grow on trees wait a minute they do they do grow on trees this last year they grew everywhere right and so they can harvest the ballot and if you don't use the ballot then they can let somebody else use the ballot in your name how in the hell is that legal how in the hell is that legal but it's legal but let's look at where they did some of the ballot harvesting and what i want to point out to you is their keywords right and here's their keywords right there i don't know if you can see that it says revealed each address had a plausible reason for receiving multiple ballots so the first thing i looked at in their report is okay what they call multiple ballots is if there were 20 or more ballots 20 or more ballots that went to one location was there a reason for said ballots to plausibly be there okay now i'm gonna open my screen because i want you to follow on the math give me one minute because i want you to see if you can just follow me in what i'm going to show you here when we look at the math these politicians want us to accept as the true real and accurate math okay so take a look at this so let me go to my screen here and i'm going to share with you my calculus later screen okay and so i'm on my calculator here on duckduck.gogo okay so in georgia there's about a 10 000 vote spread in declaring the winner either being donald trump or being joe biden i'm rounding these out just hang on with me 10 000 votes it's what it's down to right now now in georgia there are 2 300 voting locations okay 2 300 voting locations that basically means that there is per priest per place to vote only a 4.3 difference in the ballot so four in four individual ballots and one basically torn into a third that's the number so you're following with me so far that's how close this thing is in georgia and that's why this next number i'm going to share for you in the report that's why it matters see it's not about big mass scale because as you saw right there to win this particular election all you needed in georgia was 4.3 votes per voting place that's it that's what this comes down to okay so that's the magic number but here's a few things that they uh pointed out they basically got called out as they and they said this was fraud and some of the things that were called out was look you had ballot harvesting all over the place you had addresses that were used as people's addresses that weren't really addresses for people but this particular report says there's all a valid reason why those had multiple addresses so let's take a look at this one of them was a college dorm in albany state now you're supposed to use your legal address that is basically that is basically the numbers you uh in order to vote you must register at your home address not a college dorm address that's not accepted but we're going to say okay on that then there were other ones to a senior center now again senior sitters couldn't get out and people went and canvassed the senior citizens said hey you're going to vote they go no can i have your ballot they took the ballot i still think that's nefarious but quote-unquote it's allowed but let's just look at it by categories right the categories are of these multiple addresses are apartments well that stands to reason everybody has the same address the department apartment complex the only interesting integers numbers in there are the fact you have different apartments oh i can accept that one and then there's one in here that was a boarding school i actually looked at the boarding school it was the darlington boarding school i actually looked it up and i looked at and they're only k through 12. so that disqualifies it right away none of these kids should be voting because they're not old enough but it is a boarding school and about 30 percent of their staff literally lives on the campus i looked up all of their staff did the math and come to find out those numbers are right but then there's a next category the biggest categories of this were health care facilities how does somebody live at a health care facility how is your voting address a health care facility now see this report justifies there's a plausible reason that somebody could live there now i can't think of a reason why you live at a health care facility i also can't find a reason why you live at the temporary homeless shelter which is another one in here right temporary homeless shelter look at that one jails you can't vote you're incarcerated convicted or whatever the case may be but a lot of these addresses were jails by the way uh mball said nursing home you're right but see it has its own category right there so healthcare is not a nursing home it has a separate category for it right there i understand that one hell it even shows a monastery and an rv park i even get that but how do you have jails homeless shelters right temporary homeless shelters like that and just generic health care facilities how do you justify that and so that's what made me first dig quite uh quite a bit deeper into this story right of hey um what should we look at these numbers because they say there's a plausible reason for receiving multiple ballots now they don't say what it is not at all they don't say what it is so let's go look at this okay so let's look at their kurtosis model okay and so this is where the numbers get really really interesting so i'm going to show you the state's real numbers the federal government's real numbers and then remember i said this particular report says the standard globally for proving election fraud is the 2012 election presidential election right in russia so let's take a look at these numbers so let me share my screen and i'm going to kind of single fire fire through them so the first one that we're going to look at is voter turnout now this is really important to understand what happens in these states now you're looking right here okay this is balapedia this is basically the definitive source for looking up anything ballot turnout okay now try to remember these numbers if you need to uh go ahead and write them down okay go ahead and write them down because i'm going to refer back to these things okay and i want you to take a long hard look at these numbers too but write them down because when i jump to the russia stuff you're either going to puke or you're going to [ __ ] your pants right because this stuff is in your face so if you look at these charts right here it basically shows that the average turnout rates in the united states based on percentages you can look at it right is about 50 there's some variables in 2016 it was a 60 turnout in 2014 38 but look over here at the opposite side of the numbers the opposite side of the numbers basically shows where people vote for the highest office this is vote for by president and basically really simple is a lot of people don't want to bother with that one but the average turnout you can clearly see is in the high 50s when you do the averages now this is where it gets really really tricky i'm talking about georgia i'm sure i'm going to show you a report in georgia i showed you how georgia can come down to any one place if just four in one third ballots that's all four sheets of paper are wrong let's call it five if five sheets of paper out of the thousands that precinct took are wrong this election changes but yet the state wants to accept a one third of one percent audit that's what they want you to accept a one third of one percent now let's look at these numbers and this is what's going to kind of wow you here let me stop sharing my screen i gave you the voter turnout by usy now let's look at the voter turnout by state very important pay attention here and the reason it's very important by state is because we're going to focus on georgia see my screen here folks this is actually the audited numbers you can look at all this gobbledygoody poop and you can get any state's average numbers okay let's kind of zoom down to where i zoomed down to georgia okay 56 35 62 40 59 38 59 55 okay there's the numbers you can look at them for yourself you can audit them for yourself the mean average when you look at georgia's numbers is when georgia gets over a weighted average of about 52 percent you need a really hard look at it because that's not their statistical average going back 20 years okay so this report that i'm reading here and what i highlighted here is they actually basically point something out that i thought was really interesting now you can get befuddled in the math all kinds of befuddled in the math okay and basically what has to happen is in this map they basically said right here see it on average 31 percent of the registered voters did not vote in the presidential election in georgia there it is right there on average 31 percent of the registered voters did not vote in the presidential election in georgia their numbers their facts their reports their standards so if we were to take a look at that information what would all these fancy charts with dots mean would they make these dots mean something else would these little dots on a paper mean something completely different if you actually understood how to reason them okay robert okay okay if you want me to okay yes you're right okay okay okay okay you ready okay anyway let's go here here we go i'm gonna share my screen okay and i'm sharing it here sharing my screen sharing my screen here going to my chrome tab okay hey okay anyway uh bingo share my screen let me tell you what you're looking at okay see this is all the okay data okay and i just want you to be okay with what i'm sharing with you okay so look at the chart over here no sorry here okay and if you look at this chart and you read it okay uh all those dots okay those are 279 dots okay and those 279 dots eh okay those dots represent 279 counties okie dokie right okie dokie okay and what you need to do is you need to understand how to understand those numbers okay so i'm going to tell you how to read these numbers okay here you go pay attention okay anyway you're looking at this chart here these are all these 279 dots that basically show where all the votes came in they audited six uh counties in georgia which represented 279 precincts these are the 279 precincts charted out what you must understand first is they acknowledge an audited number in georgia okay that 31 of the people did not vote okay uh in the presidential election so we take 31 percent off the top 31 off the top so you got 100 you subtract 31 percent 69 percent is all we should be dealing with okay let's go back and look at it so if we're looking at these charts we got to go wait a minute 69 percent say look at this if i drew a line right there at 69 percent why are all these dots over there when they readily admitted say this is turnout see at the bottom 10 20 30 40 50 60 70 80 90 100 percent right they already acknowledged that 31 didn't vote and so actually this chart looks like this in reality so what they're saying is if you take in the fact that 31 of the people didn't vote in the general election then all of these dots should actually be over in the gray shaded areas you get what i mean okay okay so the dots should all be in the gray shaded areas so if you're following with me right now if you're following with me right now you're going holy smokes 70 plus percent of those damn dots are above that 69 percent line what the hell's going on all righty then so let's go back and let's look at this well if if 69 if it's not supposed to be over 69 let's look at it this way what if we move the gray area for the average turnout in the gray that means there should only be one two three four and we'll combine these as five there should be five precincts that out of 279 now this is key folks pay attention to the math okay is five five out of 279 show the average that basically georgia normally shows so let's just accept okay that oh i said okay again i'm sorry let's just accept that over that average turnout we get here and so if even if i took in the highest rate george has ever had look at all the numbers that show up in this irregularity band all of these dots instantly show as irregularities over the standard when you take out the 31 that this actual report says didn't vote now you go over here to this one and you get to this various one here anything you see in the yellow anything you see in the yellow should not statistically exist based on their own data but yet they tried to convince you this is the actual report and it doesn't prove anything because we use the structure of the substructure of the analytical structure combined with the structure multiplied by the keynesian term by the bayesian bay and processor star trek nine communicator formula that we created for fingerprinting boats and they basically want to convince you that hey that's the real story right there see there's no fraud there but when you audit it when you actually look at their own numbers and they say 31 percent of the people didn't turn in well they can't explain over half of this and then when you look at the real numbers based on the state and history here's what history shows where they all should be this is definitely anomaly and if you took the highest that actually they ever did see this 72 percent up to 100 percent see how over half of them are in there that is what leaves the following to be determined now you understand the setup now that i've got the setup let me get to the meat of the matter so you can debate this with your friends that do not wish to understand do not want to understand because this is how you win the argument even in this 43 page report put out by a government agency funded by government agencies funded by the current administration to prove there was no fraud and they use all these fantastical terms which most people don't do and they use this and they put it out but when you hold it against the real numbers you see the numbers don't add up and if you take and colorize the chart so you're really looking at it in slices of a pie not just the chart that they know you won't understand what you're looking at that's where they get you but here's the real meat of the matter get ready folks it's going to be a wild ride from here here we go uh let's go with the washington post first pink there you go this is a march 4th 2012 report by the washington post now we all know that the washington post don't love themselves anything conservative and i'll be damned if they're ever going to publish anything that leads anything to uh conservative uh information but here you go they basically acknowledge that putin wins election as russian president but opponents claim widespread fall now remember this report said that russia was the standard for widespread fraud that is the standard they use in their own report that here is how it went now an interesting thing in the russia election right they basically point out that in the selection if you read this article you can find it you start looking at these numbers that you find out that they basically had activists right right here i'm going to show you i think i can pump it up for you ah and do it this way thousands of russians nationwide signed up to monitor the election sunday all-day activists reported instant after instance of multiple voting abuse abuse of absentee ballots and obstruction of observers in the russian election which is held out as the worst most corrupt election ever to be had as reported by the washington post and in a moment we're going to go to the los angeles times they said thousands of people reported that there was over voting of ballots multiple ballots being counted multiple times that there was widespread abuse of absentee ballots that's basically male imbalance hey look what we found we got all these mailing ballots we had to count them and that election observers there to confirm that the election was done legally were blocked from observing blocked from observing i love this one little quote right and they talk about it as the kremlin magic of what's going on but everybody who was in this election and and taking these numbers down in russia and documenting this every one of them basically said this is a prime example of fraud election fraud period now let's jump from the washington post to the los angeles times and let's just see if we can compare the sources and see what they basically said then washington post hang on i'm just looking at for it here my screen's not showing up right let's hang on there it is so i got to close that bear with me one moment guys uh don't need precincts don't need arizona bill uh don't need that here you go okay now i can share my screen sorry i had too many windows open okay okay here we go los angeles times now this is further after moore digging into the phony fraudulent election in russia presidential election this was submitted september 24 2012 at 12 a.m basically they said they confirmed there was widespread ballot box stuffing and they basically said not only has it been certified but this is widespread and it's as bad as uganda even in this one where this owned with this report remember i mentioned earlier i don't expect you to remember it benford's law that they basically said was trash well look at this on this particular one they basically said that benford's law right is what looks for irregularities so in 2012 it was great but when it's used for anything for conservative it's wrong here it is ready for this in the model that they use to detect the fraud in the russian election they says if an election has areas that have extremely high voter turnout anything pushing up closer to that hundred percent mark than it is that that turnout is most likely a fraud and the way they determine it is do they go over the norms is there a big bulk turnout for one candidate predominantly does that sound familiar one candidate getting tons of votes at the last minute here it is even in the la times they basically said the fix is lightly in this is audited this has been audited and studied over and over and over they all mimic what goes on in russia and uganda and uganda where they basically said it is an incompetent election that benefits the few here it is writers the washington post the los angeles times this report claiming that's the standard and they baffle you with [ __ ] to tell you nothing happened when exactly the same things happened exactly the same things happen period exactly the same things happen there you go folks you have the numbers you can look at them yourself you can look up this mitre report there it is paid for by the government you don't have to look at irregularities irregularities and voting algorithms you don't even have to look at dead people or any of that all you have to do is look at the notorious trends in bas the worst presidential fraud in history which every expert agrees was done in russia in 2012 and you found out they ran ballots multiple they stuffed ballot boxes they put ballot boxes everywhere they basically over flooded the market with uh mail-in ballots and they would not let election observers actually watch up close they kept them afar taped up the windows or intimidated them not to being there there you go there you go this is what you must arm yourself with these are the facts you need to know i suggest you go back and watch it i suggest you go read about the 2012 russian election actually i think they actually learned from that 2012 election in russia how to do it here and they did it this is it i appreciate all your support okay i appreciate all your support okay okay okay thank you okay okay i love it i'm just trying to get you the numbers because if you can understand the numbers then you can understand how to debate it with all the people that tell you nothing happened that there was no fraud to see here i don't have anything special over anyone else i've decided to stop relying on some of these nefarious reports and just get to the facts but our american voting system is broke i'm a technology guy and i would never ever trust a damn machine again when it comes to voting i wouldn't it's not worth it we have to get back to individual ballots that cannot be counterfeited let me give an example of one of the smoke and mirror tactics they use did you know in these voting machines that if they take a blank ballot nobody voted it but it's about and they feed it into the machine it just stores it over here did you know that and it stores it as a legal vote asking hey what do i do with this but you remember when our systems went down we stopped counting well you can go and look at voting who voted who was registered who didn't show up and did you know did you know you can fill those in that got scanned in i just showed you it only takes five ballots at any one place to change this election five five that's all it takes five blank ballots in a machine can be voted later if you can look at the list of who didn't show up on your list and just put their names on it but it was a voted earlier these machines are designed for loopholes if we're going to fix this folks it's just us if you want justice it's just us it's not going to be up to politicians it's going to be up to the american public to basically say we don't trust these machines if you listen to my podcast i showed you how both the netherlands ireland's another one says we don't trust these machines we have to get rid of these machines and systems we have to get rid of these machines and systems and we've got to go back to paper that cannot be hacked and if there's a problem with your vote it spits it out right then and makes you fix it right then and there not holding it later for somebody else to decide what you intended how can you get the states to reject the machine look at your states ohio i think is about to uh uh spend 180 million dollars on some of these new machines that everybody's questioning and it's right if it happens again it is our fault painless you got it if it happens again it is our fault yes ohio just stopped in it and yes michael i'm weird as [ __ ] but that's the way it is okay and take it from this weirdo right i'll keep fighting this battle until i find out how to make this never ever ever happen in our history again because if your vote doesn't count america will fail and if america fails the word the world comes to mind the world will fail and i'm going to give tracy the last word and the last word of the day is okay see you later folks love you bye-bye \",\n",
              " '3']"
            ]
          },
          "metadata": {
            "tags": []
          },
          "execution_count": 5
        }
      ]
    },
    {
      "cell_type": "code",
      "metadata": {
        "colab": {
          "base_uri": "https://localhost:8080/"
        },
        "id": "PvYlN-mmscti",
        "outputId": "86bbd234-bd3b-4c47-f84a-fa75ae5264b0"
      },
      "source": [
        "wegman = wegman1 + wegman2\n",
        "print(len(wegman))\n",
        "\n",
        "wegman[0]"
      ],
      "execution_count": null,
      "outputs": [
        {
          "output_type": "stream",
          "text": [
            "57\n"
          ],
          "name": "stdout"
        },
        {
          "output_type": "execute_result",
          "data": {
            "text/plain": [
              "['2ACWWVuhwzc',\n",
              " \"alright guys this video is the only video you'll ever need to see to show you how fatal coronavirus is compared to the flu as it stands right now this is the only one you have to watch this is the easiest and simplest proof and facts that show as hard as it is to believe you know what I'm gonna say it I'm gonna draw any conclusions I'm just going to let you just make those up for your mind because I'm just gonna present these facts to you and you're gonna see and you have no choice to accept what is in front of you even those that are just blinded and think CNN is the actual real news network that tells the truth and if you like Donald Trump done like a Donald Trump ad ain't gonna matter you did this proof in front of you is undeniable so this is what looking at death rates from coronavirus Cove in nineteen in the United States as of April 29th or April 9th 2020 by state for one or a thousand right so this time people are dying per 100,000 people right it's very simple it doesn't matter who cares what it is the higher the number the more people are dying that's all comes down to this is deaths rates for influenza pneumonia in Canada from 22,000 to 2017 there's the numbers this is the ones in America so you know what don't need Canada let's just do America to America America to America alright and this is the numbers right there death by influenza pneumonia in the u.s. from the 50s to 2017 there's the number per 100,000 there's exact one per 100,000 right we're all on board here and in here we have the whole world and they have desper 1 million so obviously we all know that there's 10 100 thousands in a million because 10 times 1 our thousand is 1 million and if you want to do that you just have divided by 10 so if 71 divided by 10 is 7.1 380 divided by 10 is 38 so we're all I mean 3 yeah 38 right we're all falling along as it stands right now in New York has the highest deaths per 1000 people from Cove in 1932 now before we go into that I also have to give you full information that you do it probably haven't known about from leaked information from the National Vital Statistics system of Stephen Schwartz director or a doctor to see the shores director of vital statistic National Center for Health Statistics in Toledo Rhode Island erode Toledo road rather in heights Maryland this is the system that keeps track of all the deaths or kovin 19 and in reports there's websites like this okay now one thing you need to know is that should covin 19 here at the bottom be reported on the death certificate only with a confirmed test follow down below here Cova 19 should report on the death certificate for all the descendants where the disease caused and this is the highlight you might want to pay attention to or is assumed to have caused or contributed to death you guys got that or is consumed assumed like no proof but we assume that it contributed to death so it's like might have maybe it didn't the recovery iron line to see if there's like chronic conditions like COPD or asthma they also contributed or cancer or heart disease or who knows what could have contributed to it but you know what if it's if you have any if you think it it did in any way whatsoever though proof without even any testing mark it as a death but you know what forget I even said that you know what who cares let's just roll with this this is this role that they you know that they converse inaccurate and everyone who dies oak over 19 was a perfectly healthy stud muffin like yours truly and I just died okay that just died I'll God still going to improve you wrong for those people that are trying to say that the media is right and Kovan 19 is so bad and oh my god the world's ending we need to give up our freedoms and lock everybody up and start ticketing people and force vaccinations we need enforce vaccinations and get IDs and check posts and you can't leave your house without your confirmed coronavirus vaccination certificate that you are a clean upstanding citizen and we need your microchipped as well we need to force vaccination and microchipped you 32 worst in the all of america right display influenza last year was fourteen point two right for what our thousands just look at the numbers 32 14 damn that's horrible right I mean but I need to look back down these over here at 98 stuff before I guess they had vaccinations right look how high they were back then there's no vaccinations but we have vaccinations now he thoughts well we didn't back here and the worst place in the world right now New York 32 but let's not even pay attention to the rest of America that is 1 1 1 1 1 2 2 2 3 4 5 7 and when you add all these up together and put it as one country oh my god this 32 also turns into like an average of all the rest which is probably like a seven like a six five I don't know maybe a four because 99% of America is down here you know besides one two three four states the other the other 50 states are all ones that are not even reporting it's don't inhabited only that's time in fifty four states I didn't attend all of America maybe another fifty four states in America I'm Canadian I could be wrong on that so don't hold it to me doesn't matter my geography is not the test here what the point is you have to see these numbers but my god yeah we have vaccines eight thoughts who care so you got fourteen point three bit vaccinated B vaccine against the flu but still fourteen point three appeal per hundred thousand died yeah well hey man I mean if you just take all of America right now it's seven point one because you know we got desperate 1 million population right in USA you have to divide that by ten you get 7.1 how about Spain 38:33 the worst in the world Spain's 38 so are they're on par with like you know when it was really bad back in the 90s 80s you know [ __ ] man 70s we didn't shut down the country then we didn't like take people's rights away we didn't force vaccinations we didn't stop people's movements we didn't have 24/7 news people of fear-mongering I mean look at Canada Canada's two point one I mean can that was twenty one ten times as high the death rate per 100,000 in Canada was 21 last June 2017 you guys saw that 21 I mean should I bring it up here I think I have in my history don't I there is it right there yeah there's Canada right there 20 last year in 2017 20 what's it now it's the same per 1 million I mean that you only year oh you're getting it takes you a million people in Canada right now to equate the same level as it did here and people wondering like my wife wonders why do you make these videos eight thoughts why do you care why do you keep making these videos why you're trying to show people the truth I mean five point five and Iran thirty three point seven in Belgium and like here's the thing too that doesn't make any sense right I mean why why is the question doesn't make any sense why because I feel as if the more people that know about this the more people are awake I feel it's my duty even though you get so many dislikes that so many people leaving comments down below and getting so mad and telling me to go die and I you know you're such a loser and it's so big deal you're just stupid eight thoughts stick to make up on a call the duty beauty and these feels let me get that many views I just feel it's my duty that people need to know the truth because always see something's going on here this isn't making sense I mean 14.3 there is no state in America outside of New York that is that is at that Louisiana these places here that's it are on par with the with the flu yeah he thought you know what though could be so much higher if we weren't doing social distancing well Sweden isn't doing social distancing at me but if you guys don't know that Sweden is not doing social distancing not at all one thing they're doing is they require asking people they're older than 70 or have health problems maybe you should stay at home and social isolator not go out that much and schools are open elementary schools are open high schools are open bars are open restaurants are open businesses are open telling people to take precautions be smart about it try not to hang out too much but you know carry on with your lives and businesses are gonna keep going they have 91 deaths per 1 million that would equal 9.1 without any social distancing where they go Sweden were Dell are they who the hell are they Sweden right there 9.1 right here right lower than influenza has ever shown in the history of America or Canada I just I have to make these videos guys because I can't stand in any like I said also keeping the consideration or is assumed to have caused or you know ARCA to to death come on folks um is going on I don't know what it is if you're into agenda21 and conspiracies of new world order and controlling people and destroying small businesses so bigger businesses can get have more power and people that I put this out on Twitter and I know a lot of you could understand that you're like hey thoughts how is this gonna make people richer well when the stock market crashes people sell or people are short stocks I can't go on an accountant explain to you what shorting stocks is just Google at what is short and stocks people short stocks which means you're basically betting that it's gonna collapse they can do that in the stock market you're betting that the stock market's going to go down and you can make them a bunch of money what you do is this a simple explanation is if you have a lot of cash people are selling stocks because they rely on that for like their to pay bills they rely on it to like you know for interest rates and somebody then they start to panic and they sell well the rich buy it and then what inevitably inevitably the stock will go up again when everything settles and the rebounding of the economy occurs and they will sell back to the people that now originally sold it or didn't sell it or people who have money in the middle class as it always happens that money starts going back in the middle class and the rich sell it back to them again at a huge profit also small businesses start to get destroyed in the bigger businesses takeover like the you know the Walmart's the moment pop shops are gone the amazon's government the government corporate government run organizations also get contracts for all kinds of things with viruses with medical supplies who knows but I don't know guys might want to wake up to this you can't lie you can't deny these members there's this is right in front of you this is right in front of you it's right there one two three four come on seriously besides America I mean New York rather the rest of the country is below that that's per 100,000 in compared to Canada and below on average America expects you back in the 90s and what another four they had all these vaccines coming in for the whole people mostly Jesus all right also on top of that most bill dying from covert are all old this is all old people 99% old or people who are [ __ ] up to begin with all right I got to spread truth I can't stop myself I just I hate liars and I hate misinformation and I hate agendas and I don't trust the government and I don't trust you Andy's medical establishments because the stats show us we shouldn't trust them so I'm gonna keep making the videos that's it by\",\n",
              " '2']"
            ]
          },
          "metadata": {
            "tags": []
          },
          "execution_count": 19
        }
      ]
    },
    {
      "cell_type": "code",
      "metadata": {
        "id": "dPvLTFwnPd7x"
      },
      "source": [
        "unq_transcripts = set ()\n",
        "unq_indices = []\n",
        "\n",
        "for i, el in enumerate(albers):\n",
        "  \n",
        "  if el[1] in unq_transcripts:\n",
        "    continue\n",
        "\n",
        "  elif el[1] == \" \":\n",
        "    continue\n",
        "\n",
        "  elif el[1] == \"\":\n",
        "    continue\n",
        "  \n",
        "  else:\n",
        "    unq_transcripts.add(el[1])\n",
        "    unq_indices.append(i)"
      ],
      "execution_count": null,
      "outputs": []
    },
    {
      "cell_type": "code",
      "metadata": {
        "id": "oNnRZKwOPhtp"
      },
      "source": [
        "albers_unq = []\n",
        "\n",
        "for i, el in enumerate(albers):\n",
        "\n",
        "  if i in unq_indices:\n",
        "    albers_unq.append(el) "
      ],
      "execution_count": null,
      "outputs": []
    },
    {
      "cell_type": "code",
      "metadata": {
        "id": "waANImPTPeMJ"
      },
      "source": [
        "unq_transcripts = set ()\n",
        "unq_indices = []\n",
        "\n",
        "for i, el in enumerate(wegman):\n",
        "  \n",
        "  if el[1] in unq_transcripts:\n",
        "    continue\n",
        "\n",
        "  elif el[1] == \" \":\n",
        "    continue\n",
        "  \n",
        "  elif el[1] == \"\":\n",
        "    continue\n",
        "    \n",
        "  else:\n",
        "    unq_transcripts.add(el[1])\n",
        "    unq_indices.append(i)"
      ],
      "execution_count": null,
      "outputs": []
    },
    {
      "cell_type": "code",
      "metadata": {
        "id": "a1vubWrKPk9a"
      },
      "source": [
        "wegman_unq = []\n",
        "\n",
        "for i, el in enumerate(wegman):\n",
        "\n",
        "  if i in unq_indices:\n",
        "    wegman_unq.append(el) "
      ],
      "execution_count": null,
      "outputs": []
    },
    {
      "cell_type": "code",
      "metadata": {
        "id": "R9RRBl7tZ5rN"
      },
      "source": [
        "unq_transcripts = set ()\n",
        "unq_indices = []\n",
        "\n",
        "for i, el in enumerate(spring2021):\n",
        "  \n",
        "  if el[1] in unq_transcripts:\n",
        "    continue\n",
        "\n",
        "  elif el[1] == \" \":\n",
        "    continue\n",
        "\n",
        "  elif el[1] == \"\":\n",
        "    continue\n",
        "  \n",
        "  else:\n",
        "    unq_transcripts.add(el[1])\n",
        "    unq_indices.append(i)\n",
        "spring2021_unq = []\n",
        "\n",
        "for i, el in enumerate(spring2021):\n",
        "\n",
        "  if i in unq_indices:\n",
        "    spring2021_unq.append(el) "
      ],
      "execution_count": 6,
      "outputs": []
    },
    {
      "cell_type": "code",
      "metadata": {
        "colab": {
          "base_uri": "https://localhost:8080/"
        },
        "id": "lv14DODmQEgU",
        "outputId": "fa3884e2-8da7-493d-a8f0-354b6fac2854"
      },
      "source": [
        "len(albers_unq)"
      ],
      "execution_count": null,
      "outputs": [
        {
          "output_type": "execute_result",
          "data": {
            "text/plain": [
              "46"
            ]
          },
          "metadata": {
            "tags": []
          },
          "execution_count": 24
        }
      ]
    },
    {
      "cell_type": "code",
      "metadata": {
        "colab": {
          "base_uri": "https://localhost:8080/"
        },
        "id": "5BZLSoK2QGDq",
        "outputId": "fcfb14ab-637c-4da1-ae61-3ca549ff6dee"
      },
      "source": [
        "len(wegman_unq)"
      ],
      "execution_count": null,
      "outputs": [
        {
          "output_type": "execute_result",
          "data": {
            "text/plain": [
              "57"
            ]
          },
          "metadata": {
            "tags": []
          },
          "execution_count": 25
        }
      ]
    },
    {
      "cell_type": "code",
      "metadata": {
        "colab": {
          "base_uri": "https://localhost:8080/"
        },
        "id": "pA_tmxsgaPyG",
        "outputId": "1d7e0219-d153-4ac7-c5f4-e96502698470"
      },
      "source": [
        "len(spring2021_unq)"
      ],
      "execution_count": 7,
      "outputs": [
        {
          "output_type": "execute_result",
          "data": {
            "text/plain": [
              "97"
            ]
          },
          "metadata": {
            "tags": []
          },
          "execution_count": 7
        }
      ]
    },
    {
      "cell_type": "code",
      "metadata": {
        "id": "LWg7UcaXQHpn"
      },
      "source": [
        "import pandas as pd\n",
        "\n",
        "alfano_unq_df = pd.DataFrame.from_records(alfano_unq)\n",
        "albers_unq_df = pd.DataFrame.from_records(albers_unq)\n",
        "wegman_unq_df = pd.DataFrame.from_records(wegman_unq)\n",
        "spring2021_unq_df = pd.DataFrame.from_records(spring2021_unq)"
      ],
      "execution_count": null,
      "outputs": []
    },
    {
      "cell_type": "code",
      "metadata": {
        "id": "oe_t-tzxQjsi"
      },
      "source": [
        "alfano_unq_df.to_csv(\"Alfano_Cleaned.csv\")\n",
        "albers_unq_df.to_csv(\"First_Cohort_Cleaned.csv\")\n",
        "wegman_unq_df.to_csv(\"Second_Cohort_Cleaned.csv\")\n",
        "spring2021unq_df.to_csv(\"Spring 2021_Cleaned.csv\")"
      ],
      "execution_count": null,
      "outputs": []
    }
  ]
}
